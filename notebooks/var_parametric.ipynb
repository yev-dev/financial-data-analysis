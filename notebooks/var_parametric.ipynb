{
 "cells": [
  {
   "cell_type": "markdown",
   "metadata": {},
   "source": [
    "### Value at Risk (VaR) Analysis using the Parametric Method\n",
    "\n",
    "Also known as the variance-covariance method. The parametric method estimates VaR by assuming that portfolio returns follow a normal distribution."
   ]
  },
  {
   "cell_type": "code",
   "execution_count": 4,
   "metadata": {},
   "outputs": [],
   "source": [
    "import numpy as np\n",
    "import pandas as pd\n",
    "import datetime as dt\n",
    "import yfinance as yf\n",
    "import matplotlib.pyplot as plt\n",
    "from scipy.stats import norm"
   ]
  },
  {
   "cell_type": "code",
   "execution_count": 5,
   "metadata": {},
   "outputs": [],
   "source": [
    "adj_close_df = pd.read_csv('data/stocks.csv', parse_dates=['Date'], index_col='Date')"
   ]
  },
  {
   "cell_type": "code",
   "execution_count": 6,
   "metadata": {},
   "outputs": [],
   "source": [
    "tickers = ['SPY', 'BND', 'GLD', 'QQQ', 'VTI']"
   ]
  },
  {
   "cell_type": "code",
   "execution_count": 7,
   "metadata": {},
   "outputs": [],
   "source": [
    "log_returns_df = np.log(1 + adj_close_df.pct_change())\n",
    "log_returns_df.dropna(inplace=True)"
   ]
  },
  {
   "cell_type": "code",
   "execution_count": 14,
   "metadata": {},
   "outputs": [
    {
     "data": {
      "text/html": [
       "<div>\n",
       "<style scoped>\n",
       "    .dataframe tbody tr th:only-of-type {\n",
       "        vertical-align: middle;\n",
       "    }\n",
       "\n",
       "    .dataframe tbody tr th {\n",
       "        vertical-align: top;\n",
       "    }\n",
       "\n",
       "    .dataframe thead th {\n",
       "        text-align: right;\n",
       "    }\n",
       "</style>\n",
       "<table border=\"1\" class=\"dataframe\">\n",
       "  <thead>\n",
       "    <tr style=\"text-align: right;\">\n",
       "      <th></th>\n",
       "      <th>SPY</th>\n",
       "      <th>BND</th>\n",
       "      <th>GLD</th>\n",
       "      <th>QQQ</th>\n",
       "      <th>VTI</th>\n",
       "    </tr>\n",
       "    <tr>\n",
       "      <th>Date</th>\n",
       "      <th></th>\n",
       "      <th></th>\n",
       "      <th></th>\n",
       "      <th></th>\n",
       "      <th></th>\n",
       "    </tr>\n",
       "  </thead>\n",
       "  <tbody>\n",
       "    <tr>\n",
       "      <th>2009-08-25</th>\n",
       "      <td>0.001941</td>\n",
       "      <td>0.001653</td>\n",
       "      <td>0.004538</td>\n",
       "      <td>0.002977</td>\n",
       "      <td>0.001921</td>\n",
       "    </tr>\n",
       "    <tr>\n",
       "      <th>2009-08-26</th>\n",
       "      <td>0.000097</td>\n",
       "      <td>0.000636</td>\n",
       "      <td>0.000323</td>\n",
       "      <td>-0.001735</td>\n",
       "      <td>-0.000768</td>\n",
       "    </tr>\n",
       "    <tr>\n",
       "      <th>2009-08-27</th>\n",
       "      <td>0.002227</td>\n",
       "      <td>-0.001144</td>\n",
       "      <td>0.004302</td>\n",
       "      <td>0.002478</td>\n",
       "      <td>0.003452</td>\n",
       "    </tr>\n",
       "    <tr>\n",
       "      <th>2009-08-28</th>\n",
       "      <td>-0.000194</td>\n",
       "      <td>0.002032</td>\n",
       "      <td>0.007270</td>\n",
       "      <td>0.000989</td>\n",
       "      <td>-0.000766</td>\n",
       "    </tr>\n",
       "    <tr>\n",
       "      <th>2009-08-31</th>\n",
       "      <td>-0.008939</td>\n",
       "      <td>0.001902</td>\n",
       "      <td>-0.005020</td>\n",
       "      <td>-0.010189</td>\n",
       "      <td>-0.009624</td>\n",
       "    </tr>\n",
       "  </tbody>\n",
       "</table>\n",
       "</div>"
      ],
      "text/plain": [
       "                 SPY       BND       GLD       QQQ       VTI\n",
       "Date                                                        \n",
       "2009-08-25  0.001941  0.001653  0.004538  0.002977  0.001921\n",
       "2009-08-26  0.000097  0.000636  0.000323 -0.001735 -0.000768\n",
       "2009-08-27  0.002227 -0.001144  0.004302  0.002478  0.003452\n",
       "2009-08-28 -0.000194  0.002032  0.007270  0.000989 -0.000766\n",
       "2009-08-31 -0.008939  0.001902 -0.005020 -0.010189 -0.009624"
      ]
     },
     "execution_count": 14,
     "metadata": {},
     "output_type": "execute_result"
    }
   ],
   "source": [
    "log_returns_df.head()"
   ]
  },
  {
   "cell_type": "markdown",
   "metadata": {},
   "source": [
    "###  Equally Weighted Portfolio\n",
    "Equally weighted portfolio with a total value of 1,000,000"
   ]
  },
  {
   "cell_type": "code",
   "execution_count": 13,
   "metadata": {},
   "outputs": [
    {
     "name": "stdout",
     "output_type": "stream",
     "text": [
      "[0.2 0.2 0.2 0.2 0.2]\n"
     ]
    }
   ],
   "source": [
    "portfolio_value = 1000000\n",
    "weights = np.array([1/len(tickers)]*len(tickers))\n",
    "print(weights)"
   ]
  },
  {
   "cell_type": "code",
   "execution_count": 17,
   "metadata": {},
   "outputs": [
    {
     "name": "stdout",
     "output_type": "stream",
     "text": [
      "Date\n",
      "2009-08-25    0.002606\n",
      "2009-08-26   -0.000289\n",
      "2009-08-27    0.002263\n",
      "2009-08-28    0.001866\n",
      "2009-08-31   -0.006374\n",
      "dtype: float64\n"
     ]
    }
   ],
   "source": [
    "historical_returns_df = (log_returns_df * weights).sum(axis=1)\n",
    "\n",
    "print(historical_returns_df.head())"
   ]
  },
  {
   "cell_type": "markdown",
   "metadata": {},
   "source": [
    "### X-Day Historical Returns\n",
    "\n",
    "X-day historical returns. In this example, we’ll use a 50-day window."
   ]
  },
  {
   "cell_type": "code",
   "execution_count": 12,
   "metadata": {},
   "outputs": [
    {
     "name": "stdout",
     "output_type": "stream",
     "text": [
      "Date\n",
      "2009-08-25         NaN\n",
      "2009-08-26         NaN\n",
      "2009-08-27         NaN\n",
      "2009-08-28         NaN\n",
      "2009-08-31    0.000072\n",
      "                ...   \n",
      "2024-08-12    0.023410\n",
      "2024-08-13    0.032413\n",
      "2024-08-14    0.038092\n",
      "2024-08-15    0.031666\n",
      "2024-08-16    0.033728\n",
      "Length: 3770, dtype: float64\n"
     ]
    }
   ],
   "source": [
    "days = 5\n",
    "historical_x_day_returns = historical_returns_df.rolling(window=days).sum()\n",
    "print(historical_x_day_returns)"
   ]
  },
  {
   "cell_type": "code",
   "execution_count": null,
   "metadata": {},
   "outputs": [],
   "source": [
    "# corr = log_returns_df.corr()\n",
    "# corr.style.background_gradient(cmap='coolwarm').set_precision(2)"
   ]
  },
  {
   "cell_type": "markdown",
   "metadata": {},
   "source": [
    "### Create Covariance Matrix and Calculate Portfolio Standard Deviation"
   ]
  },
  {
   "cell_type": "code",
   "execution_count": 18,
   "metadata": {},
   "outputs": [
    {
     "name": "stdout",
     "output_type": "stream",
     "text": [
      "          SPY       BND       GLD       QQQ       VTI\n",
      "SPY  0.029468 -0.000011  0.001648  0.032584  0.030086\n",
      "BND -0.000011  0.002322  0.002230  0.000207  0.000035\n",
      "GLD  0.001648  0.002230  0.024443  0.001902  0.001799\n",
      "QQQ  0.032584  0.000207  0.001902  0.041807  0.033284\n",
      "VTI  0.030086  0.000035  0.001799  0.033284  0.030964\n"
     ]
    }
   ],
   "source": [
    "\n",
    "\n",
    "cov_matrix = log_returns_df.cov() * 252\n",
    "print(cov_matrix)\n"
   ]
  },
  {
   "cell_type": "markdown",
   "metadata": {},
   "source": [
    "### Calculating Portfolio Standard Deviation\n",
    "\n",
    "Calculating portolfio variance and taking square root of variance"
   ]
  },
  {
   "cell_type": "code",
   "execution_count": 19,
   "metadata": {},
   "outputs": [
    {
     "data": {
      "text/plain": [
       "0.11602286357061328"
      ]
     },
     "execution_count": 19,
     "metadata": {},
     "output_type": "execute_result"
    }
   ],
   "source": [
    "portfolio_std_dev = np.sqrt(weights.T @ cov_matrix @ weights)\n",
    "portfolio_std_dev"
   ]
  },
  {
   "cell_type": "code",
   "execution_count": 22,
   "metadata": {},
   "outputs": [],
   "source": [
    "confidence_levels = [0.9, 0.95, 0.99]"
   ]
  },
  {
   "cell_type": "markdown",
   "metadata": {},
   "source": [
    "### VaR at different confidence level\n",
    "\n",
    "norm.ppf(cl) -> z-score of confidence level"
   ]
  },
  {
   "cell_type": "code",
   "execution_count": 23,
   "metadata": {},
   "outputs": [],
   "source": [
    "VaRs = []\n",
    "\n",
    "for cl in confidence_levels:\n",
    "    var = portfolio_value * portfolio_std_dev * norm.ppf(cl) * np.sqrt(days/252)\n",
    "    VaRs.append(var)"
   ]
  },
  {
   "cell_type": "code",
   "execution_count": 24,
   "metadata": {},
   "outputs": [
    {
     "data": {
      "text/plain": [
       "[20944.229948893644, 26881.628114982333, 38019.19963659516]"
      ]
     },
     "execution_count": 24,
     "metadata": {},
     "output_type": "execute_result"
    }
   ],
   "source": [
    "VaRs"
   ]
  },
  {
   "cell_type": "code",
   "execution_count": null,
   "metadata": {},
   "outputs": [],
   "source": []
  }
 ],
 "metadata": {
  "kernelspec": {
   "display_name": "tsa",
   "language": "python",
   "name": "python3"
  },
  "language_info": {
   "codemirror_mode": {
    "name": "ipython",
    "version": 3
   },
   "file_extension": ".py",
   "mimetype": "text/x-python",
   "name": "python",
   "nbconvert_exporter": "python",
   "pygments_lexer": "ipython3",
   "version": "3.7.9"
  }
 },
 "nbformat": 4,
 "nbformat_minor": 2
}
